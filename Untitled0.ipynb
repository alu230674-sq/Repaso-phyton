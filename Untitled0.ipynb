{
  "nbformat": 4,
  "nbformat_minor": 0,
  "metadata": {
    "colab": {
      "provenance": [],
      "authorship_tag": "ABX9TyP6TDR4a+E4luL5q64l5tQG",
      "include_colab_link": true
    },
    "kernelspec": {
      "name": "python3",
      "display_name": "Python 3"
    },
    "language_info": {
      "name": "python"
    }
  },
  "cells": [
    {
      "cell_type": "markdown",
      "metadata": {
        "id": "view-in-github",
        "colab_type": "text"
      },
      "source": [
        "<a href=\"https://colab.research.google.com/github/alu230674-sq/Repaso-phyton/blob/main/Untitled0.ipynb\" target=\"_parent\"><img src=\"https://colab.research.google.com/assets/colab-badge.svg\" alt=\"Open In Colab\"/></a>"
      ]
    },
    {
      "cell_type": "code",
      "execution_count": null,
      "metadata": {
        "id": "iN0m6cL75PuE"
      },
      "outputs": [],
      "source": []
    },
    {
      "cell_type": "markdown",
      "source": [
        "Ejercicios a desarrollar en colab con GitHub\n",
        "\n",
        "1:Realizar un programa en phyton que te permita capturar 2 numeros enteros e imprima la suma, resta, multiplicacion y division de ellos.\n",
        "\n",
        "2:Realizar un programa en pyrhon mediante el cual calcules el total de caracteres que tiene un nombre capturado desde el teclado.\n",
        "\n",
        "3:Realizar un programa en python que permita imprimir los 7 dias de la semana.\n"
      ],
      "metadata": {
        "id": "3ijvPhG05QSJ"
      }
    },
    {
      "cell_type": "markdown",
      "source": [
        "Programa 1\n"
      ],
      "metadata": {
        "id": "veDB5pBkAnmj"
      }
    },
    {
      "cell_type": "code",
      "source": [
        "print(\"captura los numeros\")\n",
        "n1= int(input(\"Coloca tu primer numero: \"))\n",
        "n2= int(input(\"Coloca tu segundo numero: \"))\n",
        "print(f\"la suma es de: {n1+n2}\")\n",
        "print(f\"la resta es de: {n1-n2}\")\n",
        "print(f\"la multiplicacion es de: {n1*n2}\")\n",
        "print(f\"la division es de: {n1/n2}\")\n",
        "\n",
        "\n"
      ],
      "metadata": {
        "colab": {
          "base_uri": "https://localhost:8080/"
        },
        "id": "S3evEb5r6EvW",
        "outputId": "eb83e669-49d1-4828-8766-8e4625797364"
      },
      "execution_count": 40,
      "outputs": [
        {
          "output_type": "stream",
          "name": "stdout",
          "text": [
            "captura los numeros\n",
            "Coloca tu primer numero: 5\n",
            "Coloca tu segundo numero: 5\n",
            "la suma es de: 10\n",
            "la resta es de: 0\n",
            "la multiplicacion es de: 25\n",
            "la division es de: 1.0\n"
          ]
        }
      ]
    },
    {
      "cell_type": "markdown",
      "source": [
        "Programa 2\n",
        "\n"
      ],
      "metadata": {
        "id": "EgkJSODv_dxe"
      }
    },
    {
      "cell_type": "code",
      "source": [
        "nombre=input(\"captura tu nombre\")\n",
        "totalletras=len(nombre)\n",
        "print(\" el total de caracteres es: \", totalletras)"
      ],
      "metadata": {
        "colab": {
          "base_uri": "https://localhost:8080/"
        },
        "id": "nD1tlMYe_f9F",
        "outputId": "72723203-6aee-45f6-bfda-1269e3439c57"
      },
      "execution_count": 41,
      "outputs": [
        {
          "output_type": "stream",
          "name": "stdout",
          "text": [
            "captura tu nombregabo\n",
            " el total de caracteres es:  4\n"
          ]
        }
      ]
    },
    {
      "cell_type": "markdown",
      "source": [
        "Programa 3\n"
      ],
      "metadata": {
        "id": "uPKiyV3MAvWj"
      }
    },
    {
      "cell_type": "code",
      "source": [
        "semana=[\"Lunes\",\"Martes\",\"Miercoles\",\"Jueves\",\"Viernes\",\"Sabado\",\"Domingo\"]\n",
        "for dia in semana:\n",
        "  print (dia)\n"
      ],
      "metadata": {
        "colab": {
          "base_uri": "https://localhost:8080/"
        },
        "id": "FJigA3JOAvEb",
        "outputId": "0e420028-3273-4fa9-8459-88d21977f837"
      },
      "execution_count": 46,
      "outputs": [
        {
          "output_type": "stream",
          "name": "stdout",
          "text": [
            "Lunes\n",
            "Martes\n",
            "Miercoles\n",
            "Jueves\n",
            "Viernes\n",
            "Sabado\n",
            "Domingo\n"
          ]
        }
      ]
    }
  ]
}