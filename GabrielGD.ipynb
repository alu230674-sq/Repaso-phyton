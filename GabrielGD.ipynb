{
  "nbformat": 4,
  "nbformat_minor": 0,
  "metadata": {
    "colab": {
      "provenance": [],
      "authorship_tag": "ABX9TyMAiZw/OM2GvwgXYy1DBaqL",
      "include_colab_link": true
    },
    "kernelspec": {
      "name": "python3",
      "display_name": "Python 3"
    },
    "language_info": {
      "name": "python"
    }
  },
  "cells": [
    {
      "cell_type": "markdown",
      "metadata": {
        "id": "view-in-github",
        "colab_type": "text"
      },
      "source": [
        "<a href=\"https://colab.research.google.com/github/alu230674-sq/Repaso-phyton/blob/main/GabrielGD.ipynb\" target=\"_parent\"><img src=\"https://colab.research.google.com/assets/colab-badge.svg\" alt=\"Open In Colab\"/></a>"
      ]
    },
    {
      "cell_type": "markdown",
      "source": [
        "Programa 1 en python para imprimir con mi nombre"
      ],
      "metadata": {
        "id": "s1pq_XUs0sY3"
      }
    },
    {
      "cell_type": "code",
      "source": [
        "print (\"Hola Mundo\")\n",
        "nombre = (input(\"captura tu nombre\"))\n",
        "print(nombre)\n"
      ],
      "metadata": {
        "colab": {
          "base_uri": "https://localhost:8080/"
        },
        "id": "jSCOol6j0ycY",
        "outputId": "c0bea5ad-f892-4bb4-824e-98fe269ffb84"
      },
      "execution_count": 1,
      "outputs": [
        {
          "output_type": "stream",
          "name": "stdout",
          "text": [
            "Hola Mundo\n",
            "captura tu nombreGabriel\n",
            "Gabriel\n"
          ]
        }
      ]
    },
    {
      "cell_type": "markdown",
      "source": [
        "programa 2 capturar tu nombre, paterno y materno e imprimirlo en pantalla"
      ],
      "metadata": {
        "id": "XiPe3fpH1ZzF"
      }
    },
    {
      "cell_type": "code",
      "source": [
        "print(\"Hola bro\")\n",
        "nombre = (input(\" captura tu nombre: \"))\n",
        "Apaterno= (input(\" captura tu apelido paterno: \"))\n",
        "Materno  = (input(\" captura tu apellido materno: \"))\n",
        "print(nombre+ \" \"+ Apaterno+\" \"+Materno)"
      ],
      "metadata": {
        "colab": {
          "base_uri": "https://localhost:8080/"
        },
        "id": "thL9yeYg1hld",
        "outputId": "88c5c9ed-f57a-4a88-c5ab-90afab2fcb2f"
      },
      "execution_count": 3,
      "outputs": [
        {
          "output_type": "stream",
          "name": "stdout",
          "text": [
            "Hola bro\n",
            " captura tu nombre gabriel\n",
            " captura tu apelido paterno gonzalez\n",
            " captura tu apellido materno diaz\n",
            "gabriel gonzalez diaz\n"
          ]
        }
      ]
    }
  ]
}